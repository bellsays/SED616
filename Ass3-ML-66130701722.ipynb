{
 "cells": [
  {
   "cell_type": "markdown",
   "id": "f290c31b-dacf-40b2-8db4-56b32b64f3f7",
   "metadata": {},
   "source": [
    " 66130701722# Assignment 3:\n",
    "### รหัสนักศึกษา: 66130701722\n",
    "### ชื่อ-นามสกุล: Supattra Saekow\n",
    "### หลักสูตร: SED"
   ]
  },
  {
   "cell_type": "markdown",
   "id": "07a417d9-e7fa-4c03-98bb-3f28f694858f",
   "metadata": {},
   "source": [
    "## User-defined Perceptron Class"
   ]
  },
  {
   "cell_type": "markdown",
   "id": "6bddf9e0-0703-4772-ae99-2eba5ec73b6f",
   "metadata": {},
   "source": [
    "### 2D small data"
   ]
  },
  {
   "cell_type": "markdown",
   "id": "568bc907-5055-4c87-80a4-92424f1b4562",
   "metadata": {},
   "source": [
    "1. สร้างข้อมูล 2 มิติ X จำนวน 10 จุด ประกอบด้วย 2 คลาส A(-1) และ คลาส B(1) ซึ่งข้อมูลทั้ง 2 คลาส แบ่งได้โดยเส้นตรง  โดยที่ คลาส เก็บในตัวแปร y  \n"
   ]
  },
  {
   "cell_type": "code",
   "execution_count": 1,
   "id": "176ff8af-c1e0-46e2-951a-bc8331ad21c6",
   "metadata": {
    "tags": []
   },
   "outputs": [],
   "source": [
    "import numpy as np"
   ]
  },
  {
   "cell_type": "code",
   "execution_count": 2,
   "id": "c9a05974-95ab-4273-81a6-cb0f017ebd2e",
   "metadata": {
    "tags": []
   },
   "outputs": [],
   "source": [
    "X = np.array([[4.9,1.4], \n",
    "              [5,1.7], \n",
    "              [4.8,1.6], \n",
    "              [5.0,3], \n",
    "              [4.7,2],\n",
    "              [6,4.2],\n",
    "              [5.8,5],\n",
    "              [6.3,5.1], \n",
    "              [6.1,6],\n",
    "              [5.7,6.3]\n",
    "])\n",
    " \n",
    "y = np.array([-1,-1,-1,-1,-1,1,1,1,1,1])"
   ]
  },
  {
   "cell_type": "markdown",
   "id": "8de6f0d2-81fb-4d34-a740-8c1a00f6c238",
   "metadata": {},
   "source": [
    "2. Plot ข้อมูล "
   ]
  },
  {
   "cell_type": "code",
   "execution_count": 3,
   "id": "e51b90da-c2d6-421c-8df1-a89a6349d68f",
   "metadata": {
    "tags": []
   },
   "outputs": [
    {
     "data": {
      "image/png": "[encoded data removed]",
      "text/plain": [
       "<Figure size 640x480 with 1 Axes>"
      ]
     },
     "metadata": {},
     "output_type": "display_data"
    }
   ],
   "source": [
    "import matplotlib.pyplot as plt\n",
    "import numpy as np\n",
    "\n",
    "# plot data\n",
    "plt.scatter(X[0:5,0], X[0:5,1], color='red', marker='o', label='classA')\n",
    "plt.scatter(X[5:10,0], X[5:10,1], color='blue', marker='x', label='classB')\n",
    "\n",
    "plt.xlabel('x1')\n",
    "plt.ylabel('x2')\n",
    "plt.legend(loc='upper left')\n",
    "\n",
    "plt.show()"
   ]
  },
  {
   "cell_type": "markdown",
   "id": "ad831531-c26f-4b16-83af-2dfa501d20e6",
   "metadata": {},
   "source": [
    "3. สร้างโมเดล Perceptron จากคลาสที่สร้างใช้เอง  "
   ]
  },
  {
   "cell_type": "code",
   "execution_count": 4,
   "id": "438efc07-943a-426c-829d-36ef4282a994",
   "metadata": {
    "tags": []
   },
   "outputs": [],
   "source": [
    "from MyDefinedFunc import PerceptronMe,plot_decision_regions"
   ]
  },
  {
   "cell_type": "code",
   "execution_count": 5,
   "id": "e2fe985a-fe96-47e3-84bc-48f38b0d0e73",
   "metadata": {
    "tags": []
   },
   "outputs": [
    {
     "name": "stdout",
     "output_type": "stream",
     "text": [
      "w= [ 0.01624345 -0.00611756 -0.00528172]\n",
      "--- Epoch:  1\n",
      "x =  [4.9 1.4] y_test =  -1 y_predict =  -1\n",
      "w =  [-0.00611756 -0.00528172] w0 =  0.01624345363663242\n",
      "x =  [5.  1.7] y_test =  -1 y_predict =  -1\n",
      "w =  [-0.00611756 -0.00528172] w0 =  0.01624345363663242\n",
      "x =  [4.8 1.6] y_test =  -1 y_predict =  -1\n",
      "w =  [-0.00611756 -0.00528172] w0 =  0.01624345363663242\n",
      "x =  [5. 3.] y_test =  -1 y_predict =  -1\n",
      "w =  [-0.00611756 -0.00528172] w0 =  0.01624345363663242\n",
      "x =  [4.7 2. ] y_test =  -1 y_predict =  -1\n",
      "w =  [-0.00611756 -0.00528172] w0 =  0.01624345363663242\n",
      "x =  [6.  4.2] y_test =  1 y_predict =  1\n",
      "w =  [0.11388244 0.07871828] w0 =  0.03624345363663242\n",
      "x =  [5.8 5. ] y_test =  1 y_predict =  1\n",
      "w =  [0.11388244 0.07871828] w0 =  0.03624345363663242\n",
      "x =  [6.3 5.1] y_test =  1 y_predict =  1\n",
      "w =  [0.11388244 0.07871828] w0 =  0.03624345363663242\n",
      "x =  [6.1 6. ] y_test =  1 y_predict =  1\n",
      "w =  [0.11388244 0.07871828] w0 =  0.03624345363663242\n",
      "x =  [5.7 6.3] y_test =  1 y_predict =  1\n",
      "w =  [0.11388244 0.07871828] w0 =  0.03624345363663242\n",
      "errors:  1\n",
      "--- Epoch:  2\n",
      "x =  [4.9 1.4] y_test =  -1 y_predict =  1\n",
      "w =  [0.01588244 0.05071828] w0 =  0.016243453636632422\n",
      "x =  [5.  1.7] y_test =  -1 y_predict =  -1\n",
      "w =  [-0.08411756  0.01671828] w0 =  -0.0037565463633675786\n",
      "x =  [4.8 1.6] y_test =  -1 y_predict =  -1\n",
      "w =  [-0.08411756  0.01671828] w0 =  -0.0037565463633675786\n",
      "x =  [5. 3.] y_test =  -1 y_predict =  -1\n",
      "w =  [-0.08411756  0.01671828] w0 =  -0.0037565463633675786\n",
      "x =  [4.7 2. ] y_test =  -1 y_predict =  -1\n",
      "w =  [-0.08411756  0.01671828] w0 =  -0.0037565463633675786\n",
      "x =  [6.  4.2] y_test =  1 y_predict =  1\n",
      "w =  [0.03588244 0.10071828] w0 =  0.016243453636632422\n",
      "x =  [5.8 5. ] y_test =  1 y_predict =  1\n",
      "w =  [0.03588244 0.10071828] w0 =  0.016243453636632422\n",
      "x =  [6.3 5.1] y_test =  1 y_predict =  1\n",
      "w =  [0.03588244 0.10071828] w0 =  0.016243453636632422\n",
      "x =  [6.1 6. ] y_test =  1 y_predict =  1\n",
      "w =  [0.03588244 0.10071828] w0 =  0.016243453636632422\n",
      "x =  [5.7 6.3] y_test =  1 y_predict =  1\n",
      "w =  [0.03588244 0.10071828] w0 =  0.016243453636632422\n",
      "errors:  3\n",
      "--- Epoch:  3\n",
      "x =  [4.9 1.4] y_test =  -1 y_predict =  -1\n",
      "w =  [-0.06211756  0.07271828] w0 =  -0.0037565463633675786\n",
      "x =  [5.  1.7] y_test =  -1 y_predict =  -1\n",
      "w =  [-0.06211756  0.07271828] w0 =  -0.0037565463633675786\n",
      "x =  [4.8 1.6] y_test =  -1 y_predict =  -1\n",
      "w =  [-0.06211756  0.07271828] w0 =  -0.0037565463633675786\n",
      "x =  [5. 3.] y_test =  -1 y_predict =  -1\n",
      "w =  [-0.06211756  0.07271828] w0 =  -0.0037565463633675786\n",
      "x =  [4.7 2. ] y_test =  -1 y_predict =  -1\n",
      "w =  [-0.06211756  0.07271828] w0 =  -0.0037565463633675786\n",
      "x =  [6.  4.2] y_test =  1 y_predict =  1\n",
      "w =  [0.05788244 0.15671828] w0 =  0.016243453636632422\n",
      "x =  [5.8 5. ] y_test =  1 y_predict =  1\n",
      "w =  [0.05788244 0.15671828] w0 =  0.016243453636632422\n",
      "x =  [6.3 5.1] y_test =  1 y_predict =  1\n",
      "w =  [0.05788244 0.15671828] w0 =  0.016243453636632422\n",
      "x =  [6.1 6. ] y_test =  1 y_predict =  1\n",
      "w =  [0.05788244 0.15671828] w0 =  0.016243453636632422\n",
      "x =  [5.7 6.3] y_test =  1 y_predict =  1\n",
      "w =  [0.05788244 0.15671828] w0 =  0.016243453636632422\n",
      "errors:  2\n",
      "--- Epoch:  4\n",
      "x =  [4.9 1.4] y_test =  -1 y_predict =  -1\n",
      "w =  [-0.04011756  0.12871828] w0 =  -0.0037565463633675786\n",
      "x =  [5.  1.7] y_test =  -1 y_predict =  -1\n",
      "w =  [-0.14011756  0.09471828] w0 =  -0.02375654636336758\n",
      "x =  [4.8 1.6] y_test =  -1 y_predict =  -1\n",
      "w =  [-0.14011756  0.09471828] w0 =  -0.02375654636336758\n",
      "x =  [5. 3.] y_test =  -1 y_predict =  -1\n",
      "w =  [-0.14011756  0.09471828] w0 =  -0.02375654636336758\n",
      "x =  [4.7 2. ] y_test =  -1 y_predict =  -1\n",
      "w =  [-0.14011756  0.09471828] w0 =  -0.02375654636336758\n",
      "x =  [6.  4.2] y_test =  1 y_predict =  1\n",
      "w =  [-0.02011756  0.17871828] w0 =  -0.0037565463633675786\n",
      "x =  [5.8 5. ] y_test =  1 y_predict =  1\n",
      "w =  [-0.02011756  0.17871828] w0 =  -0.0037565463633675786\n",
      "x =  [6.3 5.1] y_test =  1 y_predict =  1\n",
      "w =  [-0.02011756  0.17871828] w0 =  -0.0037565463633675786\n",
      "x =  [6.1 6. ] y_test =  1 y_predict =  1\n",
      "w =  [-0.02011756  0.17871828] w0 =  -0.0037565463633675786\n",
      "x =  [5.7 6.3] y_test =  1 y_predict =  1\n",
      "w =  [-0.02011756  0.17871828] w0 =  -0.0037565463633675786\n",
      "errors:  3\n",
      "--- Epoch:  5\n",
      "x =  [4.9 1.4] y_test =  -1 y_predict =  -1\n",
      "w =  [-0.11811756  0.15071828] w0 =  -0.02375654636336758\n",
      "x =  [5.  1.7] y_test =  -1 y_predict =  -1\n",
      "w =  [-0.11811756  0.15071828] w0 =  -0.02375654636336758\n",
      "x =  [4.8 1.6] y_test =  -1 y_predict =  -1\n",
      "w =  [-0.11811756  0.15071828] w0 =  -0.02375654636336758\n",
      "x =  [5. 3.] y_test =  -1 y_predict =  -1\n",
      "w =  [-0.11811756  0.15071828] w0 =  -0.02375654636336758\n",
      "x =  [4.7 2. ] y_test =  -1 y_predict =  -1\n",
      "w =  [-0.11811756  0.15071828] w0 =  -0.02375654636336758\n",
      "x =  [6.  4.2] y_test =  1 y_predict =  1\n",
      "w =  [0.00188244 0.23471828] w0 =  -0.0037565463633675786\n",
      "x =  [5.8 5. ] y_test =  1 y_predict =  1\n",
      "w =  [0.00188244 0.23471828] w0 =  -0.0037565463633675786\n",
      "x =  [6.3 5.1] y_test =  1 y_predict =  1\n",
      "w =  [0.00188244 0.23471828] w0 =  -0.0037565463633675786\n",
      "x =  [6.1 6. ] y_test =  1 y_predict =  1\n",
      "w =  [0.00188244 0.23471828] w0 =  -0.0037565463633675786\n",
      "x =  [5.7 6.3] y_test =  1 y_predict =  1\n",
      "w =  [0.00188244 0.23471828] w0 =  -0.0037565463633675786\n",
      "errors:  2\n",
      "--- Epoch:  6\n",
      "x =  [4.9 1.4] y_test =  -1 y_predict =  -1\n",
      "w =  [-0.09611756  0.20671828] w0 =  -0.02375654636336758\n",
      "x =  [5.  1.7] y_test =  -1 y_predict =  -1\n",
      "w =  [-0.09611756  0.20671828] w0 =  -0.02375654636336758\n",
      "x =  [4.8 1.6] y_test =  -1 y_predict =  -1\n",
      "w =  [-0.09611756  0.20671828] w0 =  -0.02375654636336758\n",
      "x =  [5. 3.] y_test =  -1 y_predict =  -1\n",
      "w =  [-0.19611756  0.14671828] w0 =  -0.04375654636336758\n",
      "x =  [4.7 2. ] y_test =  -1 y_predict =  -1\n",
      "w =  [-0.19611756  0.14671828] w0 =  -0.04375654636336758\n",
      "x =  [6.  4.2] y_test =  1 y_predict =  1\n",
      "w =  [-0.07611756  0.23071828] w0 =  -0.02375654636336758\n",
      "x =  [5.8 5. ] y_test =  1 y_predict =  1\n",
      "w =  [-0.07611756  0.23071828] w0 =  -0.02375654636336758\n",
      "x =  [6.3 5.1] y_test =  1 y_predict =  1\n",
      "w =  [-0.07611756  0.23071828] w0 =  -0.02375654636336758\n",
      "x =  [6.1 6. ] y_test =  1 y_predict =  1\n",
      "w =  [-0.07611756  0.23071828] w0 =  -0.02375654636336758\n",
      "x =  [5.7 6.3] y_test =  1 y_predict =  1\n",
      "w =  [-0.07611756  0.23071828] w0 =  -0.02375654636336758\n",
      "errors:  3\n",
      "--- Epoch:  7\n",
      "x =  [4.9 1.4] y_test =  -1 y_predict =  -1\n",
      "w =  [-0.07611756  0.23071828] w0 =  -0.02375654636336758\n",
      "x =  [5.  1.7] y_test =  -1 y_predict =  -1\n",
      "w =  [-0.07611756  0.23071828] w0 =  -0.02375654636336758\n",
      "x =  [4.8 1.6] y_test =  -1 y_predict =  -1\n",
      "w =  [-0.07611756  0.23071828] w0 =  -0.02375654636336758\n",
      "x =  [5. 3.] y_test =  -1 y_predict =  -1\n",
      "w =  [-0.17611756  0.17071828] w0 =  -0.04375654636336758\n",
      "x =  [4.7 2. ] y_test =  -1 y_predict =  -1\n",
      "w =  [-0.17611756  0.17071828] w0 =  -0.04375654636336758\n",
      "x =  [6.  4.2] y_test =  1 y_predict =  1\n",
      "w =  [-0.05611756  0.25471828] w0 =  -0.02375654636336758\n",
      "x =  [5.8 5. ] y_test =  1 y_predict =  1\n",
      "w =  [-0.05611756  0.25471828] w0 =  -0.02375654636336758\n",
      "x =  [6.3 5.1] y_test =  1 y_predict =  1\n",
      "w =  [-0.05611756  0.25471828] w0 =  -0.02375654636336758\n",
      "x =  [6.1 6. ] y_test =  1 y_predict =  1\n",
      "w =  [-0.05611756  0.25471828] w0 =  -0.02375654636336758\n",
      "x =  [5.7 6.3] y_test =  1 y_predict =  1\n",
      "w =  [-0.05611756  0.25471828] w0 =  -0.02375654636336758\n",
      "errors:  2\n",
      "--- Epoch:  8\n",
      "x =  [4.9 1.4] y_test =  -1 y_predict =  -1\n",
      "w =  [-0.15411756  0.22671828] w0 =  -0.04375654636336758\n",
      "x =  [5.  1.7] y_test =  -1 y_predict =  -1\n",
      "w =  [-0.15411756  0.22671828] w0 =  -0.04375654636336758\n",
      "x =  [4.8 1.6] y_test =  -1 y_predict =  -1\n",
      "w =  [-0.15411756  0.22671828] w0 =  -0.04375654636336758\n",
      "x =  [5. 3.] y_test =  -1 y_predict =  -1\n",
      "w =  [-0.15411756  0.22671828] w0 =  -0.04375654636336758\n",
      "x =  [4.7 2. ] y_test =  -1 y_predict =  -1\n",
      "w =  [-0.15411756  0.22671828] w0 =  -0.04375654636336758\n",
      "x =  [6.  4.2] y_test =  1 y_predict =  1\n",
      "w =  [-0.03411756  0.31071828] w0 =  -0.02375654636336758\n",
      "x =  [5.8 5. ] y_test =  1 y_predict =  1\n",
      "w =  [-0.03411756  0.31071828] w0 =  -0.02375654636336758\n",
      "x =  [6.3 5.1] y_test =  1 y_predict =  1\n",
      "w =  [-0.03411756  0.31071828] w0 =  -0.02375654636336758\n",
      "x =  [6.1 6. ] y_test =  1 y_predict =  1\n",
      "w =  [-0.03411756  0.31071828] w0 =  -0.02375654636336758\n",
      "x =  [5.7 6.3] y_test =  1 y_predict =  1\n",
      "w =  [-0.03411756  0.31071828] w0 =  -0.02375654636336758\n",
      "errors:  2\n",
      "--- Epoch:  9\n",
      "x =  [4.9 1.4] y_test =  -1 y_predict =  -1\n",
      "w =  [-0.13211756  0.28271828] w0 =  -0.04375654636336758\n",
      "x =  [5.  1.7] y_test =  -1 y_predict =  -1\n",
      "w =  [-0.13211756  0.28271828] w0 =  -0.04375654636336758\n",
      "x =  [4.8 1.6] y_test =  -1 y_predict =  -1\n",
      "w =  [-0.13211756  0.28271828] w0 =  -0.04375654636336758\n",
      "x =  [5. 3.] y_test =  -1 y_predict =  -1\n",
      "w =  [-0.23211756  0.22271828] w0 =  -0.06375654636336758\n",
      "x =  [4.7 2. ] y_test =  -1 y_predict =  -1\n",
      "w =  [-0.23211756  0.22271828] w0 =  -0.06375654636336758\n",
      "x =  [6.  4.2] y_test =  1 y_predict =  1\n",
      "w =  [-0.11211756  0.30671828] w0 =  -0.04375654636336758\n",
      "x =  [5.8 5. ] y_test =  1 y_predict =  1\n",
      "w =  [-0.11211756  0.30671828] w0 =  -0.04375654636336758\n",
      "x =  [6.3 5.1] y_test =  1 y_predict =  1\n",
      "w =  [-0.11211756  0.30671828] w0 =  -0.04375654636336758\n",
      "x =  [6.1 6. ] y_test =  1 y_predict =  1\n",
      "w =  [-0.11211756  0.30671828] w0 =  -0.04375654636336758\n",
      "x =  [5.7 6.3] y_test =  1 y_predict =  1\n",
      "w =  [-0.11211756  0.30671828] w0 =  -0.04375654636336758\n",
      "errors:  3\n",
      "--- Epoch:  10\n",
      "x =  [4.9 1.4] y_test =  -1 y_predict =  -1\n",
      "w =  [-0.11211756  0.30671828] w0 =  -0.04375654636336758\n",
      "x =  [5.  1.7] y_test =  -1 y_predict =  -1\n",
      "w =  [-0.11211756  0.30671828] w0 =  -0.04375654636336758\n",
      "x =  [4.8 1.6] y_test =  -1 y_predict =  -1\n",
      "w =  [-0.11211756  0.30671828] w0 =  -0.04375654636336758\n",
      "x =  [5. 3.] y_test =  -1 y_predict =  -1\n",
      "w =  [-0.21211756  0.24671828] w0 =  -0.06375654636336758\n",
      "x =  [4.7 2. ] y_test =  -1 y_predict =  -1\n",
      "w =  [-0.21211756  0.24671828] w0 =  -0.06375654636336758\n",
      "x =  [6.  4.2] y_test =  1 y_predict =  1\n",
      "w =  [-0.09211756  0.33071828] w0 =  -0.04375654636336758\n",
      "x =  [5.8 5. ] y_test =  1 y_predict =  1\n",
      "w =  [-0.09211756  0.33071828] w0 =  -0.04375654636336758\n",
      "x =  [6.3 5.1] y_test =  1 y_predict =  1\n",
      "w =  [-0.09211756  0.33071828] w0 =  -0.04375654636336758\n",
      "x =  [6.1 6. ] y_test =  1 y_predict =  1\n",
      "w =  [-0.09211756  0.33071828] w0 =  -0.04375654636336758\n",
      "x =  [5.7 6.3] y_test =  1 y_predict =  1\n",
      "w =  [-0.09211756  0.33071828] w0 =  -0.04375654636336758\n",
      "errors:  2\n",
      "--- Epoch:  11\n",
      "x =  [4.9 1.4] y_test =  -1 y_predict =  -1\n",
      "w =  [-0.09211756  0.33071828] w0 =  -0.04375654636336758\n",
      "x =  [5.  1.7] y_test =  -1 y_predict =  -1\n",
      "w =  [-0.19211756  0.29671828] w0 =  -0.06375654636336758\n",
      "x =  [4.8 1.6] y_test =  -1 y_predict =  -1\n",
      "w =  [-0.19211756  0.29671828] w0 =  -0.06375654636336758\n",
      "x =  [5. 3.] y_test =  -1 y_predict =  -1\n",
      "w =  [-0.19211756  0.29671828] w0 =  -0.06375654636336758\n",
      "x =  [4.7 2. ] y_test =  -1 y_predict =  -1\n",
      "w =  [-0.19211756  0.29671828] w0 =  -0.06375654636336758\n",
      "x =  [6.  4.2] y_test =  1 y_predict =  1\n",
      "w =  [-0.19211756  0.29671828] w0 =  -0.06375654636336758\n",
      "x =  [5.8 5. ] y_test =  1 y_predict =  1\n",
      "w =  [-0.19211756  0.29671828] w0 =  -0.06375654636336758\n",
      "x =  [6.3 5.1] y_test =  1 y_predict =  1\n",
      "w =  [-0.19211756  0.29671828] w0 =  -0.06375654636336758\n",
      "x =  [6.1 6. ] y_test =  1 y_predict =  1\n",
      "w =  [-0.19211756  0.29671828] w0 =  -0.06375654636336758\n",
      "x =  [5.7 6.3] y_test =  1 y_predict =  1\n",
      "w =  [-0.19211756  0.29671828] w0 =  -0.06375654636336758\n",
      "errors:  1\n",
      "--- Epoch:  12\n",
      "x =  [4.9 1.4] y_test =  -1 y_predict =  -1\n",
      "w =  [-0.19211756  0.29671828] w0 =  -0.06375654636336758\n",
      "x =  [5.  1.7] y_test =  -1 y_predict =  -1\n",
      "w =  [-0.19211756  0.29671828] w0 =  -0.06375654636336758\n",
      "x =  [4.8 1.6] y_test =  -1 y_predict =  -1\n",
      "w =  [-0.19211756  0.29671828] w0 =  -0.06375654636336758\n",
      "x =  [5. 3.] y_test =  -1 y_predict =  -1\n",
      "w =  [-0.19211756  0.29671828] w0 =  -0.06375654636336758\n",
      "x =  [4.7 2. ] y_test =  -1 y_predict =  -1\n",
      "w =  [-0.19211756  0.29671828] w0 =  -0.06375654636336758\n",
      "x =  [6.  4.2] y_test =  1 y_predict =  1\n",
      "w =  [-0.19211756  0.29671828] w0 =  -0.06375654636336758\n",
      "x =  [5.8 5. ] y_test =  1 y_predict =  1\n",
      "w =  [-0.19211756  0.29671828] w0 =  -0.06375654636336758\n",
      "x =  [6.3 5.1] y_test =  1 y_predict =  1\n",
      "w =  [-0.19211756  0.29671828] w0 =  -0.06375654636336758\n",
      "x =  [6.1 6. ] y_test =  1 y_predict =  1\n",
      "w =  [-0.19211756  0.29671828] w0 =  -0.06375654636336758\n",
      "x =  [5.7 6.3] y_test =  1 y_predict =  1\n",
      "w =  [-0.19211756  0.29671828] w0 =  -0.06375654636336758\n",
      "errors:  0\n",
      "--- Epoch:  13\n",
      "x =  [4.9 1.4] y_test =  -1 y_predict =  -1\n",
      "w =  [-0.19211756  0.29671828] w0 =  -0.06375654636336758\n",
      "x =  [5.  1.7] y_test =  -1 y_predict =  -1\n",
      "w =  [-0.19211756  0.29671828] w0 =  -0.06375654636336758\n",
      "x =  [4.8 1.6] y_test =  -1 y_predict =  -1\n",
      "w =  [-0.19211756  0.29671828] w0 =  -0.06375654636336758\n",
      "x =  [5. 3.] y_test =  -1 y_predict =  -1\n",
      "w =  [-0.19211756  0.29671828] w0 =  -0.06375654636336758\n",
      "x =  [4.7 2. ] y_test =  -1 y_predict =  -1\n",
      "w =  [-0.19211756  0.29671828] w0 =  -0.06375654636336758\n",
      "x =  [6.  4.2] y_test =  1 y_predict =  1\n",
      "w =  [-0.19211756  0.29671828] w0 =  -0.06375654636336758\n",
      "x =  [5.8 5. ] y_test =  1 y_predict =  1\n",
      "w =  [-0.19211756  0.29671828] w0 =  -0.06375654636336758\n",
      "x =  [6.3 5.1] y_test =  1 y_predict =  1\n",
      "w =  [-0.19211756  0.29671828] w0 =  -0.06375654636336758\n",
      "x =  [6.1 6. ] y_test =  1 y_predict =  1\n",
      "w =  [-0.19211756  0.29671828] w0 =  -0.06375654636336758\n",
      "x =  [5.7 6.3] y_test =  1 y_predict =  1\n",
      "w =  [-0.19211756  0.29671828] w0 =  -0.06375654636336758\n",
      "errors:  0\n",
      "--- Epoch:  14\n",
      "x =  [4.9 1.4] y_test =  -1 y_predict =  -1\n",
      "w =  [-0.19211756  0.29671828] w0 =  -0.06375654636336758\n",
      "x =  [5.  1.7] y_test =  -1 y_predict =  -1\n",
      "w =  [-0.19211756  0.29671828] w0 =  -0.06375654636336758\n",
      "x =  [4.8 1.6] y_test =  -1 y_predict =  -1\n",
      "w =  [-0.19211756  0.29671828] w0 =  -0.06375654636336758\n",
      "x =  [5. 3.] y_test =  -1 y_predict =  -1\n",
      "w =  [-0.19211756  0.29671828] w0 =  -0.06375654636336758\n",
      "x =  [4.7 2. ] y_test =  -1 y_predict =  -1\n",
      "w =  [-0.19211756  0.29671828] w0 =  -0.06375654636336758\n",
      "x =  [6.  4.2] y_test =  1 y_predict =  1\n",
      "w =  [-0.19211756  0.29671828] w0 =  -0.06375654636336758\n",
      "x =  [5.8 5. ] y_test =  1 y_predict =  1\n",
      "w =  [-0.19211756  0.29671828] w0 =  -0.06375654636336758\n",
      "x =  [6.3 5.1] y_test =  1 y_predict =  1\n",
      "w =  [-0.19211756  0.29671828] w0 =  -0.06375654636336758\n",
      "x =  [6.1 6. ] y_test =  1 y_predict =  1\n",
      "w =  [-0.19211756  0.29671828] w0 =  -0.06375654636336758\n",
      "x =  [5.7 6.3] y_test =  1 y_predict =  1\n",
      "w =  [-0.19211756  0.29671828] w0 =  -0.06375654636336758\n",
      "errors:  0\n",
      "--- Epoch:  15\n",
      "x =  [4.9 1.4] y_test =  -1 y_predict =  -1\n",
      "w =  [-0.19211756  0.29671828] w0 =  -0.06375654636336758\n",
      "x =  [5.  1.7] y_test =  -1 y_predict =  -1\n",
      "w =  [-0.19211756  0.29671828] w0 =  -0.06375654636336758\n",
      "x =  [4.8 1.6] y_test =  -1 y_predict =  -1\n",
      "w =  [-0.19211756  0.29671828] w0 =  -0.06375654636336758\n",
      "x =  [5. 3.] y_test =  -1 y_predict =  -1\n",
      "w =  [-0.19211756  0.29671828] w0 =  -0.06375654636336758\n",
      "x =  [4.7 2. ] y_test =  -1 y_predict =  -1\n",
      "w =  [-0.19211756  0.29671828] w0 =  -0.06375654636336758\n",
      "x =  [6.  4.2] y_test =  1 y_predict =  1\n",
      "w =  [-0.19211756  0.29671828] w0 =  -0.06375654636336758\n",
      "x =  [5.8 5. ] y_test =  1 y_predict =  1\n",
      "w =  [-0.19211756  0.29671828] w0 =  -0.06375654636336758\n",
      "x =  [6.3 5.1] y_test =  1 y_predict =  1\n",
      "w =  [-0.19211756  0.29671828] w0 =  -0.06375654636336758\n",
      "x =  [6.1 6. ] y_test =  1 y_predict =  1\n",
      "w =  [-0.19211756  0.29671828] w0 =  -0.06375654636336758\n",
      "x =  [5.7 6.3] y_test =  1 y_predict =  1\n",
      "w =  [-0.19211756  0.29671828] w0 =  -0.06375654636336758\n",
      "errors:  0\n"
     ]
    },
    {
     "data": {
      "text/plain": [
       "<MyDefinedFunc.PerceptronMe at 0x1c91bb54210>"
      ]
     },
     "execution_count": 5,
     "metadata": {},
     "output_type": "execute_result"
    }
   ],
   "source": [
    "model = PerceptronMe(n_iter = 15,eta = 0.01)\n",
    "model.fit(X,y)"
   ]
  },
  {
   "cell_type": "markdown",
   "id": "ea2d80e4-c352-475b-a407-df940cb09af2",
   "metadata": {},
   "source": [
    "4. ทดสอบโมเดล"
   ]
  },
  {
   "cell_type": "code",
   "execution_count": null,
   "id": "9d2358ce-1c05-49bf-b48f-4c367d5a91c3",
   "metadata": {},
   "outputs": [],
   "source": []
  },
  {
   "cell_type": "markdown",
   "id": "93ae652a-0b06-45c6-8958-d32bff0ab0b0",
   "metadata": {},
   "source": [
    "5. แสดงกราฟค่า error ในแต่ละ epoch "
   ]
  },
  {
   "cell_type": "code",
   "execution_count": null,
   "id": "f5193e44-ecee-49aa-a64c-6598718fd71a",
   "metadata": {},
   "outputs": [],
   "source": []
  },
  {
   "cell_type": "markdown",
   "id": "45f1c524-7464-47b0-af92-2b9aa917beb3",
   "metadata": {},
   "source": [
    "6. แสดงกราฟพื้นที่การตัดสินใจ "
   ]
  },
  {
   "cell_type": "markdown",
   "id": "3947396f-1096-42a9-8dd8-fd97f88769ca",
   "metadata": {},
   "source": [
    "## 2D 100 points "
   ]
  },
  {
   "cell_type": "code",
   "execution_count": null,
   "id": "fce94316-4b9f-41c3-bbce-a8c6b706dc73",
   "metadata": {},
   "outputs": [],
   "source": [
    "import pandas as pd\n",
    "\n",
    "s = 'https://archive.ics.uci.edu/ml/machine-learning-databases/iris/iris.data'\n",
    "print('URL:', s)\n",
    "df = pd.read_csv(s,header=None)\n",
    "df.tail()\n",
    "\n",
    "# df = pd.read_csv('iris.data', header=None)\n",
    "# df.tail()"
   ]
  },
  {
   "cell_type": "code",
   "execution_count": 15,
   "id": "d2894826-9909-4c9e-9e1d-d1f746a50069",
   "metadata": {
    "tags": []
   },
   "outputs": [
    {
     "data": {
      "image/png": "[encoded data removed]",
      "text/plain": [
       "<Figure size 640x480 with 1 Axes>"
      ]
     },
     "metadata": {},
     "output_type": "display_data"
    }
   ],
   "source": [
    "import matplotlib.pyplot as plt\n",
    "import numpy as np\n",
    "\n",
    "# select setosa and versicolor\n",
    "y = df.iloc[0:100, 4].values\n",
    "y = np.where(y == 'Iris-setosa', -1, 1)\n",
    "\n",
    "# extract sepal length and petal length\n",
    "X = df.iloc[0:100, [0, 2]].values\n",
    "\n",
    "# plot data\n",
    "plt.scatter(X[:50, 0], X[:50, 1],\n",
    "            color='red', marker='o', label='setosa')\n",
    "plt.scatter(X[50:100, 0], X[50:100, 1],\n",
    "            color='blue', marker='x', label='versicolor')\n",
    "\n",
    "plt.xlabel('sepal length [cm]')\n",
    "plt.ylabel('petal length [cm]')\n",
    "plt.legend(loc='upper left')\n",
    "plt.show()"
   ]
  },
  {
   "cell_type": "markdown",
   "id": "f1875017-e830-486b-94f6-0a62c7d4dfcb",
   "metadata": {},
   "source": [
    "1. สร้างโมเดล Perceptron จากคลาสที่สร้างใช้เอง  \n",
    "2. ทดสอบโมเดล\n",
    "3. แสดงกราฟค่า error ในแต่ละ epoch\n",
    "4. แสดงกราฟพื้นที่การตัดสินใจ"
   ]
  },
  {
   "cell_type": "code",
   "execution_count": 9,
   "id": "7933dee3-347f-4853-86f4-75024e12e59e",
   "metadata": {
    "tags": []
   },
   "outputs": [
    {
     "data": {
      "image/png": "[encoded data removed]",
      "text/plain": [
       "<Figure size 640x480 with 1 Axes>"
      ]
     },
     "metadata": {},
     "output_type": "display_data"
    }
   ],
   "source": [
    "plt.plot(range(1,len(model.errors_)+1),model.errors_,marker='o')\n",
    "plt.xlabel('Epochs')\n",
    "plt.ylabel('Errors')\n",
    "plt.tight_layout()\n",
    "plt.show()"
   ]
  },
  {
   "cell_type": "markdown",
   "id": "24912727-c484-40df-9a88-1cf27999418c",
   "metadata": {},
   "source": [
    "## Iris Data - 4D"
   ]
  },
  {
   "cell_type": "code",
   "execution_count": 11,
   "id": "ddd9ec86-a93c-418b-9133-5ac3629919d9",
   "metadata": {},
   "outputs": [
    {
     "name": "stdout",
     "output_type": "stream",
     "text": [
      "URL: https://archive.ics.uci.edu/ml/machine-learning-databases/iris/iris.data\n"
     ]
    },
    {
     "data": {
      "text/html": [
       "<div>\n",
       "<style scoped>\n",
       "    .dataframe tbody tr th:only-of-type {\n",
       "        vertical-align: middle;\n",
       "    }\n",
       "\n",
       "    .dataframe tbody tr th {\n",
       "        vertical-align: top;\n",
       "    }\n",
       "\n",
       "    .dataframe thead th {\n",
       "        text-align: right;\n",
       "    }\n",
       "</style>\n",
       "<table border=\"1\" class=\"dataframe\">\n",
       "  <thead>\n",
       "    <tr style=\"text-align: right;\">\n",
       "      <th></th>\n",
       "      <th>0</th>\n",
       "      <th>1</th>\n",
       "      <th>2</th>\n",
       "      <th>3</th>\n",
       "      <th>4</th>\n",
       "    </tr>\n",
       "  </thead>\n",
       "  <tbody>\n",
       "    <tr>\n",
       "      <th>145</th>\n",
       "      <td>6.7</td>\n",
       "      <td>3.0</td>\n",
       "      <td>5.2</td>\n",
       "      <td>2.3</td>\n",
       "      <td>Iris-virginica</td>\n",
       "    </tr>\n",
       "    <tr>\n",
       "      <th>146</th>\n",
       "      <td>6.3</td>\n",
       "      <td>2.5</td>\n",
       "      <td>5.0</td>\n",
       "      <td>1.9</td>\n",
       "      <td>Iris-virginica</td>\n",
       "    </tr>\n",
       "    <tr>\n",
       "      <th>147</th>\n",
       "      <td>6.5</td>\n",
       "      <td>3.0</td>\n",
       "      <td>5.2</td>\n",
       "      <td>2.0</td>\n",
       "      <td>Iris-virginica</td>\n",
       "    </tr>\n",
       "    <tr>\n",
       "      <th>148</th>\n",
       "      <td>6.2</td>\n",
       "      <td>3.4</td>\n",
       "      <td>5.4</td>\n",
       "      <td>2.3</td>\n",
       "      <td>Iris-virginica</td>\n",
       "    </tr>\n",
       "    <tr>\n",
       "      <th>149</th>\n",
       "      <td>5.9</td>\n",
       "      <td>3.0</td>\n",
       "      <td>5.1</td>\n",
       "      <td>1.8</td>\n",
       "      <td>Iris-virginica</td>\n",
       "    </tr>\n",
       "  </tbody>\n",
       "</table>\n",
       "</div>"
      ],
      "text/plain": [
       "       0    1    2    3               4\n",
       "145  6.7  3.0  5.2  2.3  Iris-virginica\n",
       "146  6.3  2.5  5.0  1.9  Iris-virginica\n",
       "147  6.5  3.0  5.2  2.0  Iris-virginica\n",
       "148  6.2  3.4  5.4  2.3  Iris-virginica\n",
       "149  5.9  3.0  5.1  1.8  Iris-virginica"
      ]
     },
     "execution_count": 11,
     "metadata": {},
     "output_type": "execute_result"
    }
   ],
   "source": [
    "import pandas as pd\n",
    "s = 'https://archive.ics.uci.edu/ml/machine-learning-databases/iris/iris.data'\n",
    "print('URL:', s)\n",
    "\n",
    "df = pd.read_csv(s,header=None)\n",
    "df.tail()"
   ]
  },
  {
   "cell_type": "code",
   "execution_count": 12,
   "id": "38fea3a1-3d57-420f-88ca-b2227580cf8c",
   "metadata": {},
   "outputs": [],
   "source": [
    "# select setosa and versicolor\n",
    "y = df.iloc[0:100, 4].values\n",
    "y = np.where(y == 'Iris-setosa', -1, 1)\n",
    "\n",
    "# extract sepal length and petal length\n",
    "X = df.iloc[0:100, 0:4].values"
   ]
  },
  {
   "cell_type": "markdown",
   "id": "8641bb19-c7dc-4dcc-83f4-69d0605c4514",
   "metadata": {},
   "source": [
    "1. สร้างโมเดล Perceptron จากคลาสที่สร้างใช้เอง  \n",
    "2. ทดสอบโมเดล\n",
    "3. แสดงกราฟค่า error ในแต่ละ epoch"
   ]
  },
  {
   "cell_type": "code",
   "execution_count": null,
   "id": "3f033606-4e62-402d-b200-cf453a198bc1",
   "metadata": {},
   "outputs": [],
   "source": []
  },
  {
   "cell_type": "markdown",
   "id": "bf66d0fe-b2ce-41b8-ba6d-2af1a3cce818",
   "metadata": {},
   "source": [
    "## Perceptron- ScikitLearn"
   ]
  },
  {
   "cell_type": "code",
   "execution_count": 49,
   "id": "bbf5edf2-6a39-4793-9d1f-5c3472e29043",
   "metadata": {
    "tags": []
   },
   "outputs": [],
   "source": [
    "import pandas as pd\n",
    "import numpy as np\n",
    "from sklearn.linear_model import Perceptron"
   ]
  },
  {
   "cell_type": "code",
   "execution_count": 50,
   "id": "416c281d-512a-4c33-9b2b-652b342c4161",
   "metadata": {
    "tags": []
   },
   "outputs": [
    {
     "data": {
      "text/html": [
       "<div>\n",
       "<style scoped>\n",
       "    .dataframe tbody tr th:only-of-type {\n",
       "        vertical-align: middle;\n",
       "    }\n",
       "\n",
       "    .dataframe tbody tr th {\n",
       "        vertical-align: top;\n",
       "    }\n",
       "\n",
       "    .dataframe thead th {\n",
       "        text-align: right;\n",
       "    }\n",
       "</style>\n",
       "<table border=\"1\" class=\"dataframe\">\n",
       "  <thead>\n",
       "    <tr style=\"text-align: right;\">\n",
       "      <th></th>\n",
       "      <th>0</th>\n",
       "      <th>1</th>\n",
       "      <th>2</th>\n",
       "      <th>3</th>\n",
       "      <th>4</th>\n",
       "    </tr>\n",
       "  </thead>\n",
       "  <tbody>\n",
       "    <tr>\n",
       "      <th>145</th>\n",
       "      <td>6.7</td>\n",
       "      <td>3.0</td>\n",
       "      <td>5.2</td>\n",
       "      <td>2.3</td>\n",
       "      <td>Iris-virginica</td>\n",
       "    </tr>\n",
       "    <tr>\n",
       "      <th>146</th>\n",
       "      <td>6.3</td>\n",
       "      <td>2.5</td>\n",
       "      <td>5.0</td>\n",
       "      <td>1.9</td>\n",
       "      <td>Iris-virginica</td>\n",
       "    </tr>\n",
       "    <tr>\n",
       "      <th>147</th>\n",
       "      <td>6.5</td>\n",
       "      <td>3.0</td>\n",
       "      <td>5.2</td>\n",
       "      <td>2.0</td>\n",
       "      <td>Iris-virginica</td>\n",
       "    </tr>\n",
       "    <tr>\n",
       "      <th>148</th>\n",
       "      <td>6.2</td>\n",
       "      <td>3.4</td>\n",
       "      <td>5.4</td>\n",
       "      <td>2.3</td>\n",
       "      <td>Iris-virginica</td>\n",
       "    </tr>\n",
       "    <tr>\n",
       "      <th>149</th>\n",
       "      <td>5.9</td>\n",
       "      <td>3.0</td>\n",
       "      <td>5.1</td>\n",
       "      <td>1.8</td>\n",
       "      <td>Iris-virginica</td>\n",
       "    </tr>\n",
       "  </tbody>\n",
       "</table>\n",
       "</div>"
      ],
      "text/plain": [
       "       0    1    2    3               4\n",
       "145  6.7  3.0  5.2  2.3  Iris-virginica\n",
       "146  6.3  2.5  5.0  1.9  Iris-virginica\n",
       "147  6.5  3.0  5.2  2.0  Iris-virginica\n",
       "148  6.2  3.4  5.4  2.3  Iris-virginica\n",
       "149  5.9  3.0  5.1  1.8  Iris-virginica"
      ]
     },
     "execution_count": 50,
     "metadata": {},
     "output_type": "execute_result"
    }
   ],
   "source": [
    "df = pd.read_csv('iris.data', header=None)\n",
    "df.tail()"
   ]
  },
  {
   "cell_type": "code",
   "execution_count": 51,
   "id": "58f8f8d7-00b3-46d1-b583-844c68843afa",
   "metadata": {
    "tags": []
   },
   "outputs": [],
   "source": [
    "y = df.iloc[:, 4].values\n",
    "X = df.iloc[:, 0:4].values"
   ]
  },
  {
   "cell_type": "code",
   "execution_count": 52,
   "id": "76336cd9-4dbb-41ed-8fa6-6808b2e34273",
   "metadata": {
    "tags": []
   },
   "outputs": [],
   "source": [
    "from sklearn.model_selection import train_test_split\n",
    "X_train, X_test, y_train, y_test = train_test_split(X,y,test_size=0.2, random_state = 123)"
   ]
  },
  {
   "cell_type": "markdown",
   "id": "ae936fdd-d100-44eb-af75-b25d4ec66679",
   "metadata": {},
   "source": [
    "1. สร้างโมเดล Perceptron โดยใช้ sklearn \n",
    "2. ทดสอบโมเดล\n",
    "3. หาค่าคะแนนความถูกต้อง"
   ]
  },
  {
   "cell_type": "code",
   "execution_count": 53,
   "id": "4a4416dc-4f59-4d95-88a8-798ca5d98b16",
   "metadata": {
    "tags": []
   },
   "outputs": [
    {
     "data": {
      "text/plain": [
       "0.8333333333333334"
      ]
     },
     "execution_count": 53,
     "metadata": {},
     "output_type": "execute_result"
    }
   ],
   "source": [
    "model_per = Perceptron(tol=1e-3, random_state=0)\n",
    "model_per.fit(X_train, y_train)\n",
    "model_per.score(X_test, y_test)"
   ]
  },
  {
   "cell_type": "markdown",
   "id": "820f2e3b-e182-433e-9b6f-ef77b2ce7b5b",
   "metadata": {},
   "source": [
    "4. บันทึก model ที่สร้างขึ้น "
   ]
  },
  {
   "cell_type": "code",
   "execution_count": 54,
   "id": "611e06fe-3612-4758-8723-1e091d17fe61",
   "metadata": {
    "tags": []
   },
   "outputs": [],
   "source": [
    "#ใช้lib pickle ช่วยสร้างไฟล์\n",
    "import pickle\n",
    "\n",
    "filename = 'per_model-66130701722.sav'\n",
    "pickle.dump(model, open(filename, 'wb'))"
   ]
  },
  {
   "cell_type": "markdown",
   "id": "8ffb2fb2-43ee-4da6-9a5b-6b7bafecf822",
   "metadata": {},
   "source": [
    "## สร้างโปรแกรม ass3-app.py\n"
   ]
  },
  {
   "cell_type": "code",
   "execution_count": null,
   "id": "326b06b3-409e-4626-aae8-584863714f7f",
   "metadata": {},
   "outputs": [
    {
     "name": "stdout",
     "output_type": "stream",
     "text": [
      "LogisticRegression()\n"
     ]
    }
   ],
   "source": [
    "import streamlit as st\n",
    "import pandas as pd\n",
    "import numpy as np\n",
    "import pickle\n",
    "from sklearn.linear_model import Perceptron\n",
    "\n",
    "filename = 'per_model-66130701722.sav'\n",
    "loaded_model = pickle.load(open(filename, 'rb'))\n",
    "\n",
    "st."
   ]
  },
  {
   "cell_type": "markdown",
   "id": "07db4ffe-4d5e-4940-9264-48a463bf2f7e",
   "metadata": {},
   "source": [
    "### Deploy with streamlit "
   ]
  },
  {
   "cell_type": "code",
   "execution_count": null,
   "id": "0c772cc7-3591-4a57-a0b0-b6dcad0854df",
   "metadata": {},
   "outputs": [],
   "source": []
  }
 ],
 "metadata": {
  "kernelspec": {
   "display_name": "Python 3 (ipykernel)",
   "language": "python",
   "name": "python3"
  },
  "language_info": {
   "codemirror_mode": {
    "name": "ipython",
    "version": 3
   },
   "file_extension": ".py",
   "mimetype": "text/x-python",
   "name": "python",
   "nbconvert_exporter": "python",
   "pygments_lexer": "ipython3",
   "version": "3.11.5"
  }
 },
 "nbformat": 4,
 "nbformat_minor": 5
}
